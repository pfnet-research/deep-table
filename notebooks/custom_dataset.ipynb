{
 "cells": [
  {
   "cell_type": "markdown",
   "id": "e1a1ee8f-f806-4c73-83b2-6c4dfb06e276",
   "metadata": {
    "tags": []
   },
   "source": [
    "# Usage example: Custom dataset (iris)"
   ]
  },
  {
   "cell_type": "markdown",
   "id": "54410a37-0e81-4fed-9250-da9c079df3f2",
   "metadata": {},
   "source": [
    "## Step 0. Prepare datasets and create DataFrame"
   ]
  },
  {
   "cell_type": "code",
   "execution_count": 1,
   "id": "c535f59e-34e2-49a5-810b-f60ec59c2d3d",
   "metadata": {},
   "outputs": [],
   "source": [
    "import pandas as pd\n",
    "\n",
    "iris = pd.read_csv('https://raw.githubusercontent.com/mwaskom/seaborn-data/master/iris.csv')"
   ]
  },
  {
   "cell_type": "markdown",
   "id": "b00c0ce5-afcb-432c-8cc2-cecf90861abe",
   "metadata": {},
   "source": [
    "## Step 1. Preprocessing pd.DataFrame"
   ]
  },
  {
   "cell_type": "code",
   "execution_count": 2,
   "id": "0c740476-ef97-4392-97fb-8c5d85b4b241",
   "metadata": {},
   "outputs": [],
   "source": [
    "import os,sys; sys.path.append(os.path.abspath(\"..\"))\n",
    "from deep_table.data.data_module import TabularDatamodule\n",
    "from deep_table.preprocess import CategoryPreprocessor\n",
    "\n",
    "\n",
    "# Convert target labels (str) to int\n",
    "category_preprocesser = CategoryPreprocessor(categorical_columns=[\"species\"], use_unk=False)\n",
    "iris = category_preprocesser.fit_transform(iris)"
   ]
  },
  {
   "cell_type": "markdown",
   "id": "58ba958d-7fef-4b2e-8651-2ce5389e8f0a",
   "metadata": {},
   "source": [
    "## Step 2. Make TabularDatamodule instance"
   ]
  },
  {
   "cell_type": "code",
   "execution_count": 3,
   "id": "37bcd799-78f4-460a-832e-47deac8b14b7",
   "metadata": {},
   "outputs": [],
   "source": [
    "datamodule = TabularDatamodule(\n",
    "    train=iris.iloc[:20],\n",
    "    val=iris.iloc[20:40],\n",
    "    test=iris.iloc[40:],\n",
    "    task=\"multiclass\",\n",
    "    dim_out=3,\n",
    "    categorical_columns=[],\n",
    "    continuous_columns=[\n",
    "        \"sepal_length\",\n",
    "        \"sepal_width\",\n",
    "        \"petal_length\",\n",
    "        \"petal_width\"\n",
    "    ],\n",
    "    target=[\"species\"],\n",
    "    num_categories=0,\n",
    ")"
   ]
  },
  {
   "cell_type": "markdown",
   "id": "c65f0cda-f8db-4e02-a5dc-114285e79c3a",
   "metadata": {},
   "source": [
    "## Step 3. Training"
   ]
  },
  {
   "cell_type": "code",
   "execution_count": 4,
   "id": "8b041848-6685-4c6d-86f7-97ef7fb9d7b0",
   "metadata": {},
   "outputs": [],
   "source": [
    "from omegaconf import OmegaConf\n",
    "\n",
    "\n",
    "# Encoder settings\n",
    "encoder_config = OmegaConf.create({\n",
    "    \"embedding\": {\n",
    "        \"name\": \"FeatureEmbedding\",\n",
    "        \"args\": {\n",
    "            \"dim_embed\": 16\n",
    "        }\n",
    "    },\n",
    "    \"backbone\": {\n",
    "        \"name\": \"MLPBackbone\",\n",
    "        \"args\": {}\n",
    "    }\n",
    "})\n",
    "\n",
    "# model settings (learning rate, scheduler...)\n",
    "model_config = OmegaConf.create({\n",
    "    \"name\": \"MLPHeadModel\"\n",
    "})\n",
    "\n",
    "# training settings (epoch, gpu...)\n",
    "trainer_config = OmegaConf.create({\n",
    "    \"gpus\": 0,\n",
    "    \"max_epochs\": 1,\n",
    "    \"seed\": 42\n",
    "})"
   ]
  },
  {
   "cell_type": "code",
   "execution_count": 5,
   "id": "194007a1-ebed-469d-8607-8fb5474b259d",
   "metadata": {},
   "outputs": [
    {
     "name": "stderr",
     "output_type": "stream",
     "text": [
      "GPU available: False, used: False\n",
      "TPU available: False, using: 0 TPU cores\n",
      "IPU available: False, using: 0 IPUs\n",
      "`activation` is not set. `nn.Identity` would be used instead.\n",
      "`activation` is not set. `nn.Identity` would be used instead.\n",
      "Global seed set to 42\n",
      "\n",
      "  | Name    | Type             | Params\n",
      "---------------------------------------------\n",
      "0 | encoder | Encoder          | 319 K \n",
      "1 | mlp     | Sequential       | 17.4 K\n",
      "2 | loss    | CrossEntropyLoss | 0     \n",
      "---------------------------------------------\n",
      "336 K     Trainable params\n",
      "0         Non-trainable params\n",
      "336 K     Total params\n",
      "1.348     Total estimated model params size (MB)\n"
     ]
    },
    {
     "name": "stdout",
     "output_type": "stream",
     "text": [
      "                                                                                                                                                                                                                  "
     ]
    },
    {
     "name": "stderr",
     "output_type": "stream",
     "text": [
      "Global seed set to 42\n"
     ]
    },
    {
     "name": "stdout",
     "output_type": "stream",
     "text": [
      "Epoch 0:  50%|████████████████████████████████████████████████████████████████████▌                                                                    | 1/2 [00:08<00:04,  4.39s/it, loss=1.06, train_loss=1.060]\n",
      "Validating: 0it [00:00, ?it/s]\u001b[A\n",
      "Validating:   0%|                                                                                                                                                                           | 0/1 [00:00<?, ?it/s]\u001b[A\n",
      "Epoch 0: 100%|█████████████████████████████████████████████████████████████████████████████████████████████████████████████████████████| 2/2 [00:19<00:00,  6.39s/it, loss=1.06, train_loss=1.060, val_loss=0.981]\u001b[A\n",
      "Epoch 0: 100%|█████████████████████████████████████████████████████████████████████████████████████████████████████████████████████████| 2/2 [00:19<00:00,  6.40s/it, loss=1.06, train_loss=1.060, val_loss=0.981]\u001b[A\n",
      "Predicting: 100%|███████████████████████████████████████████████████████████████████████████████████████████████████████████████████████████████████████████████████████████████████████████| 1/1 [00:08<?, ?it/s]\n"
     ]
    },
    {
     "data": {
      "text/plain": [
       "{'cross_entropy': 1.1514963963885783, 'accuracy': 0.09090909090909091}"
      ]
     },
     "execution_count": 5,
     "metadata": {},
     "output_type": "execute_result"
    }
   ],
   "source": [
    "from deep_table.estimators.base import Estimator\n",
    "from deep_table.utils import get_scores\n",
    "\n",
    "\n",
    "estimator = Estimator(encoder_config, model_config, trainer_config)\n",
    "estimator.fit(datamodule)\n",
    "\n",
    "predict = estimator.predict(datamodule.dataloader(split=\"test\"))\n",
    "get_scores(predict, target=datamodule.dataloader(split=\"test\"), task=\"multiclass\")"
   ]
  },
  {
   "cell_type": "code",
   "execution_count": null,
   "id": "4f368c33-cc96-4d7a-b6dd-f748f3944b40",
   "metadata": {},
   "outputs": [],
   "source": []
  },
  {
   "cell_type": "code",
   "execution_count": null,
   "id": "fc775238-5aa8-4198-87ef-1d8cc93ebe06",
   "metadata": {},
   "outputs": [],
   "source": []
  }
 ],
 "metadata": {
  "kernelspec": {
   "display_name": "Python 3 (ipykernel)",
   "language": "python",
   "name": "python3"
  },
  "language_info": {
   "codemirror_mode": {
    "name": "ipython",
    "version": 3
   },
   "file_extension": ".py",
   "mimetype": "text/x-python",
   "name": "python",
   "nbconvert_exporter": "python",
   "pygments_lexer": "ipython3",
   "version": "3.9.7"
  }
 },
 "nbformat": 4,
 "nbformat_minor": 5
}
