{
 "cells": [
  {
   "cell_type": "code",
   "execution_count": 1,
   "id": "91fe7beb-ec48-42c1-8902-3c37bd42e3b2",
   "metadata": {},
   "outputs": [],
   "source": [
    "from omegaconf import OmegaConf\n",
    "\n",
    "\n",
    "# Encoder settings\n",
    "encoder_config = OmegaConf.create({\n",
    "    \"embedding\": {\n",
    "        \"name\": \"FeatureEmbedding\",\n",
    "    },\n",
    "    \"backbone\": {\n",
    "        \"name\": \"FTTransformerBackbone\",\n",
    "    }\n",
    "})\n",
    "\n",
    "# model settings (learning rate, scheduler...)\n",
    "model_config = OmegaConf.create({\n",
    "    \"name\": \"MLPHeadModel\"\n",
    "})\n",
    "\n",
    "# training settings (epoch, gpu...): not necessary\n",
    "trainer_config = OmegaConf.create({\n",
    "    \"gpus\": 0,\n",
    "    \"max_epochs\": 1,\n",
    "})"
   ]
  },
  {
   "cell_type": "code",
   "execution_count": 2,
   "id": "94af397e-e7a8-4606-8809-09e794bd5088",
   "metadata": {},
   "outputs": [
    {
     "name": "stdout",
     "output_type": "stream",
     "text": [
      "Downloading https://archive.ics.uci.edu/ml/machine-learning-databases/adult/adult.data\n",
      "Using downloaded and verified file: ../data/Adult/raw/adult.data\n",
      "\n",
      "Downloading https://archive.ics.uci.edu/ml/machine-learning-databases/adult/adult.test\n",
      "Using downloaded and verified file: ../data/Adult/raw/adult.test\n",
      "\n"
     ]
    }
   ],
   "source": [
    "import os,sys; sys.path.append(os.path.abspath(\"..\"))\n",
    "from deep_table.data.data_module import TabularDatamodule\n",
    "from deep_table.data.datasets import Adult\n",
    "\n",
    "\n",
    "adult_dataset = Adult(root=\"../data\")\n",
    "adult_dataframes = adult_dataset.processed_dataframes()\n",
    "\n",
    "datamodule = TabularDatamodule(\n",
    "    train=adult_dataframes[\"train\"],\n",
    "    val=adult_dataframes[\"val\"],\n",
    "    test=adult_dataframes[\"test\"],\n",
    "    task=adult_dataset.task,\n",
    "    dim_out=adult_dataset.dim_out,\n",
    "    categorical_columns=adult_dataset.categorical_columns,\n",
    "    continuous_columns=adult_dataset.continuous_columns,\n",
    "    target=adult_dataset.target_columns,\n",
    "    num_categories=adult_dataset.num_categories,\n",
    ")\n"
   ]
  },
  {
   "cell_type": "code",
   "execution_count": 3,
   "id": "23a8661a-72d9-4e30-97d4-0b7496259071",
   "metadata": {},
   "outputs": [
    {
     "name": "stderr",
     "output_type": "stream",
     "text": [
      "GPU available: True, used: False\n",
      "TPU available: False, using: 0 TPU cores\n",
      "IPU available: False, using: 0 IPUs\n",
      "/home/tsumli/.local/lib/python3.8/site-packages/pytorch_lightning/trainer/trainer.py:1294: UserWarning: GPU available but not used. Set the gpus flag in your trainer `Trainer(gpus=1)` or script `--gpus=1`.\n",
      "  rank_zero_warn(\n",
      "Global seed set to 0\n",
      "\n",
      "  | Name    | Type              | Params\n",
      "----------------------------------------------\n",
      "0 | encoder | Encoder           | 30.8 K\n",
      "1 | mlp     | Sequential        | 4.6 K \n",
      "2 | loss    | BCEWithLogitsLoss | 0     \n",
      "----------------------------------------------\n",
      "35.4 K    Trainable params\n",
      "0         Non-trainable params\n",
      "35.4 K    Total params\n",
      "0.142     Total estimated model params size (MB)\n"
     ]
    },
    {
     "data": {
      "application/vnd.jupyter.widget-view+json": {
       "model_id": "",
       "version_major": 2,
       "version_minor": 0
      },
      "text/plain": [
       "Validation sanity check: 0it [00:00, ?it/s]"
      ]
     },
     "metadata": {},
     "output_type": "display_data"
    },
    {
     "name": "stderr",
     "output_type": "stream",
     "text": [
      "Global seed set to 0\n"
     ]
    },
    {
     "data": {
      "application/vnd.jupyter.widget-view+json": {
       "model_id": "98138e15f8e842ca9d86e8ea454687fc",
       "version_major": 2,
       "version_minor": 0
      },
      "text/plain": [
       "Training: -1it [00:00, ?it/s]"
      ]
     },
     "metadata": {},
     "output_type": "display_data"
    },
    {
     "data": {
      "application/vnd.jupyter.widget-view+json": {
       "model_id": "",
       "version_major": 2,
       "version_minor": 0
      },
      "text/plain": [
       "Validating: 0it [00:00, ?it/s]"
      ]
     },
     "metadata": {},
     "output_type": "display_data"
    }
   ],
   "source": [
    "from deep_table.estimators.base import Estimator\n",
    "from deep_table.utils import get_scores\n",
    "\n",
    "\n",
    "estimator = Estimator(\n",
    "    encoder_config,\n",
    "    model_config, \n",
    "    trainer_config\n",
    ")\n",
    "estimator.fit(datamodule)"
   ]
  },
  {
   "cell_type": "code",
   "execution_count": 5,
   "id": "12c40d23-e19b-4825-b008-154abe48126e",
   "metadata": {},
   "outputs": [
    {
     "data": {
      "application/vnd.jupyter.widget-view+json": {
       "model_id": "a10f22c90cff49dab17070486c1f1006",
       "version_major": 2,
       "version_minor": 0
      },
      "text/plain": [
       "Predicting: 191it [00:00, ?it/s]"
      ]
     },
     "metadata": {},
     "output_type": "display_data"
    },
    {
     "data": {
      "text/plain": [
       "{'accuracy': 0.8492107364412506,\n",
       " 'AUC': 0.9056332241226922,\n",
       " 'F1 score': 0.9063656127235974,\n",
       " 'cross_entropy': 0.3209269697953147}"
      ]
     },
     "execution_count": 5,
     "metadata": {},
     "output_type": "execute_result"
    }
   ],
   "source": [
    "predict = estimator.predict(datamodule.dataloader(split=\"test\"))\n",
    "get_scores(predict, target=datamodule.dataloader(split=\"test\"), task=\"binary\")"
   ]
  },
  {
   "cell_type": "code",
   "execution_count": 7,
   "id": "371fcaf6-1ac4-4b62-8997-c33461401864",
   "metadata": {},
   "outputs": [
    {
     "name": "stderr",
     "output_type": "stream",
     "text": [
      "GPU available: True, used: False\n",
      "TPU available: False, using: 0 TPU cores\n",
      "IPU available: False, using: 0 IPUs\n",
      "/home/tsumli/.local/lib/python3.8/site-packages/pytorch_lightning/trainer/trainer.py:1294: UserWarning: GPU available but not used. Set the gpus flag in your trainer `Trainer(gpus=1)` or script `--gpus=1`.\n",
      "  rank_zero_warn(\n",
      "Global seed set to 0\n",
      "\n",
      "  | Name               | Type             | Params\n",
      "--------------------------------------------------------\n",
      "0 | encoder            | Encoder          | 30.8 K\n",
      "1 | cutmix             | Cutmix           | 0     \n",
      "2 | mixup              | Mixup            | 0     \n",
      "3 | g1                 | SimpleMLPLayer   | 62.2 K\n",
      "4 | g2                 | SimpleMLPLayer   | 62.2 K\n",
      "5 | feature_wise_mlp   | ModuleList       | 1.2 M \n",
      "6 | contranstive_loss  | InfoNCELoss      | 0     \n",
      "7 | mse_loss           | MSELoss          | 0     \n",
      "8 | cross_entropy_loss | CrossEntropyLoss | 0     \n",
      "--------------------------------------------------------\n",
      "1.3 M     Trainable params\n",
      "0         Non-trainable params\n",
      "1.3 M     Total params\n",
      "5.347     Total estimated model params size (MB)\n"
     ]
    },
    {
     "data": {
      "application/vnd.jupyter.widget-view+json": {
       "model_id": "",
       "version_major": 2,
       "version_minor": 0
      },
      "text/plain": [
       "Validation sanity check: 0it [00:00, ?it/s]"
      ]
     },
     "metadata": {},
     "output_type": "display_data"
    },
    {
     "name": "stderr",
     "output_type": "stream",
     "text": [
      "Global seed set to 0\n"
     ]
    },
    {
     "data": {
      "application/vnd.jupyter.widget-view+json": {
       "model_id": "a83aa3f6e792488fb10e52c0b8339984",
       "version_major": 2,
       "version_minor": 0
      },
      "text/plain": [
       "Training: -1it [00:00, ?it/s]"
      ]
     },
     "metadata": {},
     "output_type": "display_data"
    },
    {
     "data": {
      "application/vnd.jupyter.widget-view+json": {
       "model_id": "",
       "version_major": 2,
       "version_minor": 0
      },
      "text/plain": [
       "Validating: 0it [00:00, ?it/s]"
      ]
     },
     "metadata": {},
     "output_type": "display_data"
    },
    {
     "name": "stderr",
     "output_type": "stream",
     "text": [
      "GPU available: True, used: False\n",
      "TPU available: False, using: 0 TPU cores\n",
      "IPU available: False, using: 0 IPUs\n",
      "Global seed set to 0\n",
      "\n",
      "  | Name    | Type              | Params\n",
      "----------------------------------------------\n",
      "0 | encoder | Encoder           | 30.8 K\n",
      "1 | mlp     | Sequential        | 4.6 K \n",
      "2 | loss    | BCEWithLogitsLoss | 0     \n",
      "----------------------------------------------\n",
      "35.4 K    Trainable params\n",
      "0         Non-trainable params\n",
      "35.4 K    Total params\n",
      "0.142     Total estimated model params size (MB)\n"
     ]
    },
    {
     "data": {
      "application/vnd.jupyter.widget-view+json": {
       "model_id": "",
       "version_major": 2,
       "version_minor": 0
      },
      "text/plain": [
       "Validation sanity check: 0it [00:00, ?it/s]"
      ]
     },
     "metadata": {},
     "output_type": "display_data"
    },
    {
     "name": "stderr",
     "output_type": "stream",
     "text": [
      "Global seed set to 0\n"
     ]
    },
    {
     "data": {
      "application/vnd.jupyter.widget-view+json": {
       "model_id": "044fbfb47bf441e9a721a347fd1ee8d9",
       "version_major": 2,
       "version_minor": 0
      },
      "text/plain": [
       "Training: -1it [00:00, ?it/s]"
      ]
     },
     "metadata": {},
     "output_type": "display_data"
    },
    {
     "data": {
      "application/vnd.jupyter.widget-view+json": {
       "model_id": "",
       "version_major": 2,
       "version_minor": 0
      },
      "text/plain": [
       "Validating: 0it [00:00, ?it/s]"
      ]
     },
     "metadata": {},
     "output_type": "display_data"
    }
   ],
   "source": [
    "pretrain_model_config = OmegaConf.create({\n",
    "    \"name\": \"SAINTPretrainModel\"\n",
    "})\n",
    "\n",
    "pretrain_model = Estimator(\n",
    "    encoder_config,\n",
    "    pretrain_model_config,\n",
    "    trainer_config\n",
    ")\n",
    "pretrain_model.fit(datamodule)\n",
    "\n",
    "estimator = Estimator(\n",
    "    encoder_config, model_config, \n",
    "                      \n",
    "    trainer_config)\n",
    "estimator.fit(datamodule, from_pretrained=pretrain_model)\n"
   ]
  },
  {
   "cell_type": "code",
   "execution_count": 8,
   "id": "3aaa1a0b-fa9d-430d-bbd7-b4e977731947",
   "metadata": {},
   "outputs": [
    {
     "data": {
      "application/vnd.jupyter.widget-view+json": {
       "model_id": "e3455ccac97f4c6fb89a051369b7d7b9",
       "version_major": 2,
       "version_minor": 0
      },
      "text/plain": [
       "Predicting: 191it [00:00, ?it/s]"
      ]
     },
     "metadata": {},
     "output_type": "display_data"
    },
    {
     "data": {
      "text/plain": [
       "{'accuracy': 0.8535716479331736,\n",
       " 'AUC': 0.9061936735611765,\n",
       " 'F1 score': 0.9071867943626878,\n",
       " 'cross_entropy': 0.3190468799196811}"
      ]
     },
     "execution_count": 8,
     "metadata": {},
     "output_type": "execute_result"
    }
   ],
   "source": [
    "predict = estimator.predict(datamodule.dataloader(split=\"test\"))\n",
    "get_scores(predict, target=datamodule.dataloader(split=\"test\"), task=\"binary\")"
   ]
  },
  {
   "cell_type": "code",
   "execution_count": null,
   "id": "47e43338-35b3-4305-af8b-6049c237264f",
   "metadata": {},
   "outputs": [],
   "source": []
  }
 ],
 "metadata": {
  "kernelspec": {
   "display_name": "Python 3 (ipykernel)",
   "language": "python",
   "name": "python3"
  },
  "language_info": {
   "codemirror_mode": {
    "name": "ipython",
    "version": 3
   },
   "file_extension": ".py",
   "mimetype": "text/x-python",
   "name": "python",
   "nbconvert_exporter": "python",
   "pygments_lexer": "ipython3",
   "version": "3.8.10"
  }
 },
 "nbformat": 4,
 "nbformat_minor": 5
}
