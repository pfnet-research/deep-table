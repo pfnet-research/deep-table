{
 "cells": [
  {
   "cell_type": "code",
   "execution_count": 2,
   "id": "91fe7beb-ec48-42c1-8902-3c37bd42e3b2",
   "metadata": {},
   "outputs": [],
   "source": [
    "from omegaconf import OmegaConf\n",
    "\n",
    "\n",
    "# Encoder settings\n",
    "encoder_config = OmegaConf.create({\n",
    "    \"embedding\": {\n",
    "        \"name\": \"FeatureEmbedding\",\n",
    "    },\n",
    "    \"backbone\": {\n",
    "        \"name\": \"FTTransformerBackbone\",\n",
    "    }\n",
    "})\n",
    "\n",
    "# model settings (learning rate, scheduler...)\n",
    "model_config = OmegaConf.create({\n",
    "    \"name\": \"MLPHeadModel\"\n",
    "})\n",
    "\n",
    "# training settings (epoch, gpu...): not necessary\n",
    "trainer_config = OmegaConf.create({\n",
    "    \"max_epochs\": 1,\n",
    "})"
   ]
  },
  {
   "cell_type": "code",
   "execution_count": 5,
   "id": "94af397e-e7a8-4606-8809-09e794bd5088",
   "metadata": {},
   "outputs": [],
   "source": [
    "import os,sys; sys.path.append(os.path.abspath(\"..\"))\n",
    "from deep_table.data.data_module import TabularDatamodule\n",
    "from deep_table.data.datasets import Adult\n",
    "\n",
    "\n",
    "adult_dataset = Adult(root=\"../data\")\n",
    "adult_dataframes = adult_dataset.processed_dataframes()\n",
    "\n",
    "datamodule = TabularDatamodule(\n",
    "    train=adult_dataframes[\"train\"],\n",
    "    val=adult_dataframes[\"val\"],\n",
    "    test=adult_dataframes[\"test\"],\n",
    "    task=adult_dataset.task,\n",
    "    dim_out=adult_dataset.dim_out,\n",
    "    categorical_columns=adult_dataset.categorical_columns,\n",
    "    continuous_columns=adult_dataset.continuous_columns,\n",
    "    target=adult_dataset.target_columns,\n",
    "    num_categories=adult_dataset.num_categories(),\n",
    ")\n"
   ]
  },
  {
   "cell_type": "code",
   "execution_count": 6,
   "id": "23a8661a-72d9-4e30-97d4-0b7496259071",
   "metadata": {},
   "outputs": [
    {
     "name": "stderr",
     "output_type": "stream",
     "text": [
      "GPU available: False, used: False\n",
      "TPU available: False, using: 0 TPU cores\n",
      "IPU available: False, using: 0 IPUs\n",
      "`activation` is not set. `nn.Identity` would be used instead.\n",
      "`activation` is not set. `nn.Identity` would be used instead.\n",
      "Global seed set to 0\n",
      "\n",
      "  | Name    | Type              | Params\n",
      "----------------------------------------------\n",
      "0 | encoder | Encoder           | 30.8 K\n",
      "1 | mlp     | Sequential        | 4.6 K \n",
      "2 | loss    | BCEWithLogitsLoss | 0     \n",
      "----------------------------------------------\n",
      "35.4 K    Trainable params\n",
      "0         Non-trainable params\n",
      "35.4 K    Total params\n",
      "0.142     Total estimated model params size (MB)\n"
     ]
    },
    {
     "name": "stdout",
     "output_type": "stream",
     "text": [
      "                                                                                                                                                                                                                  "
     ]
    },
    {
     "name": "stderr",
     "output_type": "stream",
     "text": [
      "Global seed set to 0\n"
     ]
    },
    {
     "name": "stdout",
     "output_type": "stream",
     "text": [
      "Epoch 0:  75%|██████████████████████████████████████████████████████████████████████████████████████████████████▊                                 | 191/255 [00:29<00:09,  6.60it/s, loss=0.355, train_loss=0.385]\n",
      "Validating: 0it [00:00, ?it/s]\u001b[A\n",
      "Validating:   0%|                                                                                                                                                                          | 0/64 [00:00<?, ?it/s]\u001b[A\n",
      "Epoch 0:  76%|███████████████████████████████████████████████████████████████████████████████████████████████████▉                                | 193/255 [00:36<00:11,  5.27it/s, loss=0.355, train_loss=0.385]\u001b[A\n",
      "Epoch 0:  81%|███████████████████████████████████████████████████████████████████████████████████████████████████████████▏                        | 207/255 [00:36<00:08,  5.64it/s, loss=0.355, train_loss=0.385]\u001b[A\n",
      "Epoch 0:  87%|██████████████████████████████████████████████████████████████████████████████████████████████████████████████████▍                 | 221/255 [00:37<00:05,  6.00it/s, loss=0.355, train_loss=0.385]\u001b[A\n",
      "Epoch 0:  92%|█████████████████████████████████████████████████████████████████████████████████████████████████████████████████████████▋          | 235/255 [00:37<00:03,  6.36it/s, loss=0.355, train_loss=0.385]\u001b[A\n",
      "Epoch 0: 100%|████████████████████████████████████████████████████████████████████████████████████████████████████████████████████████████████████| 255/255 [00:47<00:00,  5.39it/s, loss=0.355, train_loss=0.385]\u001b[A\n",
      "Epoch 0: 100%|████████████████████████████████████████████████████████████████████████████████████████████████████████████████████| 255/255 [00:52<00:00,  4.90it/s, loss=0.355, train_loss=0.385, val_loss=0.324]\u001b[A\n",
      "Epoch 0: 100%|████████████████████████████████████████████████████████████████████████████████████████████████████████████████████| 255/255 [00:52<00:00,  4.90it/s, loss=0.355, train_loss=0.385, val_loss=0.324]\u001b[A\n"
     ]
    }
   ],
   "source": [
    "from deep_table.estimators.base import Estimator\n",
    "from deep_table.utils import get_scores\n",
    "\n",
    "\n",
    "estimator = Estimator(\n",
    "    encoder_config,\n",
    "    model_config, \n",
    "    trainer_config\n",
    ")\n",
    "estimator.fit(datamodule)"
   ]
  },
  {
   "cell_type": "code",
   "execution_count": 7,
   "id": "12c40d23-e19b-4825-b008-154abe48126e",
   "metadata": {},
   "outputs": [
    {
     "name": "stdout",
     "output_type": "stream",
     "text": [
      "Predicting: 191it [00:23, ?it/s]\n"
     ]
    },
    {
     "data": {
      "text/plain": [
       "{'accuracy': 0.8488422087095387,\n",
       " 'AUC': 0.9042503388917222,\n",
       " 'F1 score': 0.902792589959316,\n",
       " 'cross_entropy': 0.3235419449084581}"
      ]
     },
     "execution_count": 7,
     "metadata": {},
     "output_type": "execute_result"
    }
   ],
   "source": [
    "predict = estimator.predict(datamodule.dataloader(split=\"test\"))\n",
    "get_scores(predict, target=datamodule.dataloader(split=\"test\"), task=\"binary\")"
   ]
  },
  {
   "cell_type": "code",
   "execution_count": 8,
   "id": "371fcaf6-1ac4-4b62-8997-c33461401864",
   "metadata": {},
   "outputs": [
    {
     "name": "stderr",
     "output_type": "stream",
     "text": [
      "GPU available: False, used: False\n",
      "TPU available: False, using: 0 TPU cores\n",
      "IPU available: False, using: 0 IPUs\n",
      "`activation` is not set. `nn.Identity` would be used instead.\n",
      "`activation` is not set. `nn.Identity` would be used instead.\n",
      "Global seed set to 0\n",
      "\n",
      "  | Name               | Type             | Params\n",
      "--------------------------------------------------------\n",
      "0 | encoder            | Encoder          | 30.8 K\n",
      "1 | cutmix             | Cutmix           | 0     \n",
      "2 | mixup              | Mixup            | 0     \n",
      "3 | g1                 | SimpleMLPLayer   | 62.2 K\n",
      "4 | g2                 | SimpleMLPLayer   | 62.2 K\n",
      "5 | feature_wise_mlp   | ModuleList       | 1.2 M \n",
      "6 | contranstive_loss  | InfoNCELoss      | 0     \n",
      "7 | mse_loss           | MSELoss          | 0     \n",
      "8 | cross_entropy_loss | CrossEntropyLoss | 0     \n",
      "--------------------------------------------------------\n",
      "1.3 M     Trainable params\n",
      "0         Non-trainable params\n",
      "1.3 M     Total params\n",
      "5.347     Total estimated model params size (MB)\n"
     ]
    },
    {
     "name": "stdout",
     "output_type": "stream",
     "text": [
      "                                                                                                                                                                                                                  "
     ]
    },
    {
     "name": "stderr",
     "output_type": "stream",
     "text": [
      "Global seed set to 0\n"
     ]
    },
    {
     "name": "stdout",
     "output_type": "stream",
     "text": [
      "Epoch 0:  75%|████████████████████████████████████████████████████████▉                   | 191/255 [00:40<00:13,  4.71it/s, loss=528, train_contrastive_loss=374.0, train_denoising_loss=2.530, train_loss=400.0]\n",
      "Validating: 0it [00:00, ?it/s]\u001b[A\n",
      "Validating:   0%|                                                                                                                                                                          | 0/64 [00:00<?, ?it/s]\u001b[A\n",
      "Epoch 0:  76%|█████████████████████████████████████████████████████████▌                  | 193/255 [00:48<00:15,  3.98it/s, loss=528, train_contrastive_loss=374.0, train_denoising_loss=2.530, train_loss=400.0]\u001b[A\n",
      "Epoch 0:  78%|███████████████████████████████████████████████████████████                 | 198/255 [00:48<00:13,  4.08it/s, loss=528, train_contrastive_loss=374.0, train_denoising_loss=2.530, train_loss=400.0]\u001b[A\n",
      "Epoch 0:  80%|████████████████████████████████████████████████████████████▌               | 203/255 [00:48<00:12,  4.17it/s, loss=528, train_contrastive_loss=374.0, train_denoising_loss=2.530, train_loss=400.0]\u001b[A\n",
      "Epoch 0:  82%|█████████████████████████████████████████████████████████████▉              | 208/255 [00:49<00:11,  4.26it/s, loss=528, train_contrastive_loss=374.0, train_denoising_loss=2.530, train_loss=400.0]\u001b[A\n",
      "Epoch 0:  84%|███████████████████████████████████████████████████████████████▍            | 213/255 [00:49<00:09,  4.35it/s, loss=528, train_contrastive_loss=374.0, train_denoising_loss=2.530, train_loss=400.0]\u001b[A\n",
      "Epoch 0:  85%|████████████████████████████████████████████████████████████████▉           | 218/255 [00:49<00:08,  4.44it/s, loss=528, train_contrastive_loss=374.0, train_denoising_loss=2.530, train_loss=400.0]\u001b[A\n",
      "Epoch 0:  87%|██████████████████████████████████████████████████████████████████▍         | 223/255 [00:49<00:07,  4.54it/s, loss=528, train_contrastive_loss=374.0, train_denoising_loss=2.530, train_loss=400.0]\u001b[A\n",
      "Epoch 0:  89%|███████████████████████████████████████████████████████████████████▉        | 228/255 [00:49<00:05,  4.63it/s, loss=528, train_contrastive_loss=374.0, train_denoising_loss=2.530, train_loss=400.0]\u001b[A\n",
      "Epoch 0:  91%|█████████████████████████████████████████████████████████████████████▍      | 233/255 [00:49<00:04,  4.72it/s, loss=528, train_contrastive_loss=374.0, train_denoising_loss=2.530, train_loss=400.0]\u001b[A\n",
      "Epoch 0:  93%|██████████████████████████████████████████████████████████████████████▉     | 238/255 [00:49<00:03,  4.81it/s, loss=528, train_contrastive_loss=374.0, train_denoising_loss=2.530, train_loss=400.0]\u001b[A\n",
      "Epoch 0:  95%|████████████████████████████████████████████████████████████████████████▍   | 243/255 [00:49<00:02,  4.90it/s, loss=528, train_contrastive_loss=374.0, train_denoising_loss=2.530, train_loss=400.0]\u001b[A\n",
      "Epoch 0:  97%|█████████████████████████████████████████████████████████████████████████▉  | 248/255 [00:49<00:01,  4.98it/s, loss=528, train_contrastive_loss=374.0, train_denoising_loss=2.530, train_loss=400.0]\u001b[A\n",
      "Epoch 0: 100%|████████████████████████████████████████████████████████████| 255/255 [01:05<00:00,  3.93it/s, loss=528, train_contrastive_loss=374.0, train_denoising_loss=2.530, train_loss=400.0, val_loss=530.0]\u001b[A\n",
      "Epoch 0: 100%|████████████████████████████████████████████████████████████| 255/255 [01:05<00:00,  3.93it/s, loss=528, train_contrastive_loss=374.0, train_denoising_loss=2.530, train_loss=400.0, val_loss=530.0]\u001b[A"
     ]
    },
    {
     "name": "stderr",
     "output_type": "stream",
     "text": [
      "GPU available: False, used: False\n",
      "TPU available: False, using: 0 TPU cores\n",
      "IPU available: False, using: 0 IPUs\n",
      "Global seed set to 0\n",
      "\n",
      "  | Name    | Type              | Params\n",
      "----------------------------------------------\n",
      "0 | encoder | Encoder           | 30.8 K\n",
      "1 | mlp     | Sequential        | 4.6 K \n",
      "2 | loss    | BCEWithLogitsLoss | 0     \n",
      "----------------------------------------------\n",
      "35.4 K    Trainable params\n",
      "0         Non-trainable params\n",
      "35.4 K    Total params\n",
      "0.142     Total estimated model params size (MB)\n"
     ]
    },
    {
     "name": "stdout",
     "output_type": "stream",
     "text": [
      "\n",
      "                                                                                                                                                                                                                  "
     ]
    },
    {
     "name": "stderr",
     "output_type": "stream",
     "text": [
      "Global seed set to 0\n"
     ]
    },
    {
     "name": "stdout",
     "output_type": "stream",
     "text": [
      "Epoch 0:  75%|██████████████████████████████████████████████████████████████████████████████████████████████████▊                                 | 191/255 [00:28<00:09,  6.72it/s, loss=0.348, train_loss=0.406]\n",
      "Validating: 0it [00:00, ?it/s]\u001b[A\n",
      "Validating:   0%|                                                                                                                                                                          | 0/64 [00:00<?, ?it/s]\u001b[A\n",
      "Epoch 0:  76%|███████████████████████████████████████████████████████████████████████████████████████████████████▉                                | 193/255 [00:36<00:11,  5.37it/s, loss=0.348, train_loss=0.406]\u001b[A\n",
      "Epoch 0:  81%|███████████████████████████████████████████████████████████████████████████████████████████████████████████▏                        | 207/255 [00:36<00:08,  5.74it/s, loss=0.348, train_loss=0.406]\u001b[A\n",
      "Epoch 0:  87%|██████████████████████████████████████████████████████████████████████████████████████████████████████████████████▍                 | 221/255 [00:36<00:05,  6.11it/s, loss=0.348, train_loss=0.406]\u001b[A\n",
      "Epoch 0:  92%|█████████████████████████████████████████████████████████████████████████████████████████████████████████████████████████▋          | 235/255 [00:36<00:03,  6.48it/s, loss=0.348, train_loss=0.406]\u001b[A\n",
      "Epoch 0: 100%|████████████████████████████████████████████████████████████████████████████████████████████████████████████████████████████████████| 255/255 [00:48<00:00,  5.33it/s, loss=0.348, train_loss=0.406]\u001b[A\n",
      "Epoch 0: 100%|████████████████████████████████████████████████████████████████████████████████████████████████████████████████████| 255/255 [00:51<00:00,  4.96it/s, loss=0.348, train_loss=0.406, val_loss=0.320]\u001b[A\n",
      "Epoch 0: 100%|████████████████████████████████████████████████████████████████████████████████████████████████████████████████████| 255/255 [00:51<00:00,  4.96it/s, loss=0.348, train_loss=0.406, val_loss=0.320]\u001b[A\n"
     ]
    }
   ],
   "source": [
    "pretrain_model_config = OmegaConf.create({\n",
    "    \"name\": \"SAINTPretrainModel\"\n",
    "})\n",
    "\n",
    "pretrain_model = Estimator(\n",
    "    encoder_config,\n",
    "    pretrain_model_config,\n",
    "    trainer_config\n",
    ")\n",
    "pretrain_model.fit(datamodule)\n",
    "\n",
    "estimator = Estimator(\n",
    "    encoder_config, model_config, \n",
    "                      \n",
    "    trainer_config)\n",
    "estimator.fit(datamodule, from_pretrained=pretrain_model)\n"
   ]
  },
  {
   "cell_type": "code",
   "execution_count": 9,
   "id": "3aaa1a0b-fa9d-430d-bbd7-b4e977731947",
   "metadata": {},
   "outputs": [
    {
     "name": "stdout",
     "output_type": "stream",
     "text": [
      "Predicting: 191it [00:23, ?it/s]\n"
     ]
    },
    {
     "data": {
      "text/plain": [
       "{'accuracy': 0.8525274860266568,\n",
       " 'AUC': 0.9066998626869078,\n",
       " 'F1 score': 0.907507993374167,\n",
       " 'cross_entropy': 0.31816212925849996}"
      ]
     },
     "execution_count": 9,
     "metadata": {},
     "output_type": "execute_result"
    }
   ],
   "source": [
    "predict = estimator.predict(datamodule.dataloader(split=\"test\"))\n",
    "get_scores(predict, target=datamodule.dataloader(split=\"test\"), task=\"binary\")"
   ]
  },
  {
   "cell_type": "code",
   "execution_count": null,
   "id": "47e43338-35b3-4305-af8b-6049c237264f",
   "metadata": {},
   "outputs": [],
   "source": []
  }
 ],
 "metadata": {
  "kernelspec": {
   "display_name": "Python 3 (ipykernel)",
   "language": "python",
   "name": "python3"
  },
  "language_info": {
   "codemirror_mode": {
    "name": "ipython",
    "version": 3
   },
   "file_extension": ".py",
   "mimetype": "text/x-python",
   "name": "python",
   "nbconvert_exporter": "python",
   "pygments_lexer": "ipython3",
   "version": "3.9.7"
  }
 },
 "nbformat": 4,
 "nbformat_minor": 5
}
